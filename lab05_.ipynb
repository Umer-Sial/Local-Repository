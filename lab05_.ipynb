{
  "nbformat": 4,
  "nbformat_minor": 0,
  "metadata": {
    "colab": {
      "provenance": [],
      "authorship_tag": "ABX9TyOxesFSOG21sp+MXbiraT8/",
      "include_colab_link": true
    },
    "kernelspec": {
      "name": "python3",
      "display_name": "Python 3"
    },
    "language_info": {
      "name": "python"
    }
  },
  "cells": [
    {
      "cell_type": "markdown",
      "metadata": {
        "id": "view-in-github",
        "colab_type": "text"
      },
      "source": [
        "<a href=\"https://colab.research.google.com/github/Umer-Sial/Local-Repository/blob/main/lab05_.ipynb\" target=\"_parent\"><img src=\"https://colab.research.google.com/assets/colab-badge.svg\" alt=\"Open In Colab\"/></a>"
      ]
    },
    {
      "cell_type": "code",
      "execution_count": 4,
      "metadata": {
        "colab": {
          "base_uri": "https://localhost:8080/"
        },
        "id": "nPuuUEDSAWKx",
        "outputId": "9e533447-7aa7-41a0-d980-32759f27c3b8"
      },
      "outputs": [
        {
          "output_type": "stream",
          "name": "stdout",
          "text": [
            "The message for today is: welcome to cs 50 \n"
          ]
        }
      ],
      "source": [
        "#paradime is how you solve a problem like if we go from top to bottom it is sequential paradime\n",
        "#if we make functions it is called a functional paradime\n",
        "\n",
        "message = \"welcome to cs 50\"\n",
        "\n",
        "print(f\"The message for today is: {message} \")"
      ]
    }
  ]
}