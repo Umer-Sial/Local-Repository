{
  "nbformat": 4,
  "nbformat_minor": 0,
  "metadata": {
    "colab": {
      "provenance": [],
      "authorship_tag": "ABX9TyOIc09Jp7xVujLqynWV8Oxs",
      "include_colab_link": true
    },
    "kernelspec": {
      "name": "python3",
      "display_name": "Python 3"
    },
    "language_info": {
      "name": "python"
    }
  },
  "cells": [
    {
      "cell_type": "markdown",
      "metadata": {
        "id": "view-in-github",
        "colab_type": "text"
      },
      "source": [
        "<a href=\"https://colab.research.google.com/github/Umer-Sial/Local-Repository/blob/main/lab05_.ipynb\" target=\"_parent\"><img src=\"https://colab.research.google.com/assets/colab-badge.svg\" alt=\"Open In Colab\"/></a>"
      ]
    },
    {
      "cell_type": "code",
      "execution_count": 10,
      "metadata": {
        "colab": {
          "base_uri": "https://localhost:8080/"
        },
        "id": "nPuuUEDSAWKx",
        "outputId": "5a825b3e-ca9a-436e-f1a3-ad37dcdd838f"
      },
      "outputs": [
        {
          "output_type": "stream",
          "name": "stdout",
          "text": [
            "The message for today is: welcome to cs 50 \n",
            "Wednesday\n"
          ]
        }
      ],
      "source": [
        "#paradime is how you solve a problem like if we go from top to bottom it is sequential paradime\n",
        "#if we make functions it is called a functional paradime\n",
        "\n",
        "message = \"welcome to cs 50\"\n",
        "\n",
        "print(f\"The message for today is: {message} \")\n",
        "\n",
        "my_list = [\"Monday\",\"Tuesday\",\"Wednesday\",\"Thursday\",[\"Friday\",\"Saturday\",\"Sunday\"]]\n",
        "\n",
        "print(my_list[2])"
      ]
    },
    {
      "cell_type": "markdown",
      "source": [
        "# New Section"
      ],
      "metadata": {
        "id": "TAZUmSvqFIwm"
      }
    },
    {
      "cell_type": "code",
      "source": [
        "message = \"hello\"\n",
        "\n",
        "message = message.replace(\" \",\" \").upper()\n",
        "\n",
        "key =  \"31452\"\n",
        "\n",
        "key_order = [int(k) -1 for k in key ]\n",
        "#print(key_order)\n",
        "\n",
        "ciper_text = \"\"\n",
        "\n",
        "for val in key_order:\n",
        "  #print(val)\n",
        "\n",
        "  ciper_text += message[val]\n",
        "print(ciper_text)\n",
        "\n",
        "\n",
        "  #  for key in key:\n",
        "  #  key_order.append(k)\n",
        "  #  print(key_order)\n",
        "  #           key_order = [int(k) -1 for k in key ] # this code replaces the above code"
      ],
      "metadata": {
        "colab": {
          "base_uri": "https://localhost:8080/"
        },
        "id": "j23DA5IJFK7Q",
        "outputId": "0a48ba10-95a7-4ee9-a2aa-ead239b86ad9"
      },
      "execution_count": 14,
      "outputs": [
        {
          "output_type": "stream",
          "name": "stdout",
          "text": [
            "LHLOE\n"
          ]
        }
      ]
    }
  ]
}