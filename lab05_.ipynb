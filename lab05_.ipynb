{
  "nbformat": 4,
  "nbformat_minor": 0,
  "metadata": {
    "colab": {
      "provenance": [],
      "authorship_tag": "ABX9TyNRSxgA/Bkiq7h+iVR/M68I",
      "include_colab_link": true
    },
    "kernelspec": {
      "name": "python3",
      "display_name": "Python 3"
    },
    "language_info": {
      "name": "python"
    }
  },
  "cells": [
    {
      "cell_type": "markdown",
      "metadata": {
        "id": "view-in-github",
        "colab_type": "text"
      },
      "source": [
        "<a href=\"https://colab.research.google.com/github/Umer-Sial/Local-Repository/blob/main/lab05_.ipynb\" target=\"_parent\"><img src=\"https://colab.research.google.com/assets/colab-badge.svg\" alt=\"Open In Colab\"/></a>"
      ]
    },
    {
      "cell_type": "code",
      "execution_count": 5,
      "metadata": {
        "colab": {
          "base_uri": "https://localhost:8080/"
        },
        "id": "nPuuUEDSAWKx",
        "outputId": "d950d14b-92c1-4a37-d049-bb0ed628d633"
      },
      "outputs": [
        {
          "output_type": "stream",
          "name": "stdout",
          "text": [
            "The message for today is: welcome to cs 50 \n",
            "The message for today is: welcome to cs 50 \n"
          ]
        }
      ],
      "source": [
        "#paradime is how you solve a problem like if we go from top to bottom it is sequential paradime\n",
        "#if we make functions it is called a functional paradime\n",
        "\n",
        "message = \"welcome to cs 50\"\n",
        "\n",
        "print(f\"The message for today is: {message} \")\n",
        "\n",
        "print(f\"The message for today is: {message} \")\n",
        "\n",
        "print(f\"The message for today is: {message} \")"
      ]
    }
  ]
}